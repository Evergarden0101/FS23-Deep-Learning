{
  "cells": [
    {
      "cell_type": "markdown",
      "metadata": {
        "id": "view-in-github",
        "colab_type": "text"
      },
      "source": [
        "<a href=\"https://colab.research.google.com/github/Evergarden0101/FS23-Deep-Learning/blob/main/%E2%80%9CDL_Assignment07_ipynb%E2%80%9D%E7%9A%84%E5%89%AF%E6%9C%AC.ipynb\" target=\"_parent\"><img src=\"https://colab.research.google.com/assets/colab-badge.svg\" alt=\"Open In Colab\"/></a>"
      ]
    },
    {
      "cell_type": "markdown",
      "metadata": {
        "id": "a79S5iaAXFjp"
      },
      "source": [
        "# Assignment 7: Transfer Learning\n",
        "\n",
        "\n",
        "The goal of this exercise is to learn how to use pre-trained networks in transfer learning tasks.\n",
        "We will make use of networks trained on ImageNet, and apply them to related problems, i.e., the classification of $10$ objects not contained in ImageNet."
      ]
    },
    {
      "cell_type": "markdown",
      "metadata": {
        "id": "iViLR2ZQXFjr"
      },
      "source": [
        "## Dataset\n",
        "\n",
        "For this exercise we use the  [CIFAR-10](https://www.cs.toronto.edu/~kriz/cifar.html) dataset that can be downloaded from the official website [here]({https://www.cs.toronto.edu/~kriz/cifar-10-python.tar.gz}).\n",
        "The dataset contains $60000$ color images of pixels size $32\\times 32$ in $10$ classes: airplane, automobile, bird, cat, deer, dog, frog, horse, ship and truck, with $6000$ images per class."
      ]
    },
    {
      "cell_type": "markdown",
      "metadata": {
        "id": "EGyrayNLXFjs"
      },
      "source": [
        "### Task 1: Data Transformation\n",
        "\n",
        "We need to instantiate a proper `torchvision.transform` instance to create the same input structure as used for training our network.\n",
        "We need to combine 4 transforms, which can be compiled from the PyTorch website: https://pytorch.org/vision/stable/models.html\n",
        "\n",
        "1. We need to resize the image such that the shorter side has size 256.\n",
        "2. We need to take the center crop of size $224\\times224$ from the image.\n",
        "3. We need to convert the image into a tensor (including pixel values scaling)\n",
        "4. We need to normalize the pixel values with mean $(0.485, 0.456, 0.406)$ and standard deviation $(0.229, 0.224, 0.225)$.\n",
        "\n",
        "Since we will use networks pre-trained on ImageNet, we need to perform the exact same transform as used for ImageNet testing."
      ]
    },
    {
      "cell_type": "code",
      "execution_count": null,
      "metadata": {
        "colab": {
          "background_save": true
        },
        "id": "5os881XMXFjt"
      },
      "outputs": [],
      "source": [
        "import torch\n",
        "import torchvision\n",
        "import torchvision.transforms as transform\n",
        "device = torch.device('cuda')\n",
        "imagenet_transform = transform.Compose([\n",
        "    transform.Resize(256),\n",
        "    transform.CenterCrop(224),\n",
        "    transform.ToTensor(),\n",
        "    transform.Normalize(mean=[0.485, 0.456, 0.406],\n",
        "                         std=[0.229, 0.224, 0.225])\n",
        "])"
      ]
    },
    {
      "cell_type": "markdown",
      "metadata": {
        "id": "FvLkUBy4XFju"
      },
      "source": [
        "### Task 2: Dataset Loading\n",
        "\n",
        "We here use the [torchvision.datasets.CIFAR10](https://pytorch.org/vision/0.12/generated/torchvision.datasets.CIFAR10.html) dataset interface for processing images. \n",
        "You can use the `train` argument or flag to distinguish between training and test set.\n",
        "\n",
        "This task consists of two parts:\n",
        "\n",
        "1. Create two datasets, one for the training set, one for the test set. Use the transform defined above.\n",
        "2. Once the datasets are created, create two data loaders, one for training set, one for test set. Use a proper value of the batch-size $B$."
      ]
    },
    {
      "cell_type": "code",
      "execution_count": null,
      "metadata": {
        "colab": {
          "base_uri": "https://localhost:8080/"
        },
        "id": "GVp57Jh5XFju",
        "outputId": "f8811a4a-2aec-4f71-e591-a02cfbd1d55c"
      },
      "outputs": [
        {
          "name": "stdout",
          "output_type": "stream",
          "text": [
            "Files already downloaded and verified\n",
            "Files already downloaded and verified\n"
          ]
        }
      ],
      "source": [
        "trainset = torchvision.datasets.CIFAR10(root='/Users/yixuan/Documents/UZH/23spring/DL/cifar10', train=True, download=True, transform=imagenet_transform)\n",
        "\n",
        "testset = torchvision.datasets.CIFAR10(root='/Users/yixuan/Documents/UZH/23spring/DL/cifar10', train=False, download=True, transform=imagenet_transform)\n"
      ]
    },
    {
      "cell_type": "code",
      "execution_count": null,
      "metadata": {
        "id": "9-4ZDWyEXFjv"
      },
      "outputs": [],
      "source": [
        "B = 32\n",
        "trainloader = torch.utils.data.DataLoader(trainset, batch_size=B, shuffle=True)\n",
        "testloader = torch.utils.data.DataLoader(testset, batch_size=B, shuffle=False)"
      ]
    },
    {
      "cell_type": "markdown",
      "metadata": {
        "id": "Admcm9BVXFjw"
      },
      "source": [
        "### Test 1: Data Size and Types\n",
        "\n",
        "We check that all input images are `torch.tensors` of size $3\\times224\\times224$ and of type `torch.float` and that all labels are of type `int`.\n",
        "\n",
        "Note: the sanity check is only performed on the test set."
      ]
    },
    {
      "cell_type": "code",
      "execution_count": null,
      "metadata": {
        "id": "AbVfZgq7XFjw"
      },
      "outputs": [],
      "source": [
        "for x, t in testset:\n",
        "    assert isinstance(x, torch.Tensor)\n",
        "    assert isinstance(t, int)\n",
        "    assert x.shape==(3,224,224)\n",
        "    assert x.dtype==torch.float"
      ]
    },
    {
      "cell_type": "markdown",
      "metadata": {
        "id": "rssQyKlpXFjx"
      },
      "source": [
        "## Deep Feature Extraction\n",
        "\n",
        "We will use a pre-trained network available in `PyTorch`. \n",
        "Particularly, we will use a ResNet-50 architecture, but other architectures can also be tested. \n",
        "Fortunately, PyTorch provides simple interfaces to obtain pre-trained models, e.g., using the `torchvision.models.resnet50` interface function.\n",
        "\n",
        "In order to use the networks in a different dataset, we need to change their outputs. \n",
        "There are several possibilities on how to achieve that, and you have the freedom to choose. \n",
        "\n",
        "For your reference, the implementation of the `forward` function of ResNet networks (including ResNet-50) can be found here: https://github.com/pytorch/vision/blob/main/torchvision/models/resnet.py#L266\n",
        "\n",
        "You can also check if other networks perform better, for example, deeper ResNet topologies.\n",
        "Be aware that the strategy to replace the last fully-connected layer might not work in other network topologies, only in residual networks."
      ]
    },
    {
      "cell_type": "markdown",
      "metadata": {
        "id": "ABoEpi56XFjx"
      },
      "source": [
        "### Task 3: Pre-trained Network Instantiation\n",
        "\n",
        "Instantiate two pre-trained networks of type ResNet-50.\n",
        "\n",
        "1. Freeze the feature layers of the first network.\n",
        "\n",
        "Note: Make use the `old TorchVision Interface` to load your pre-trained network. Here is the link: https://pytorch.org/vision/0.12/models.html "
      ]
    },
    {
      "cell_type": "code",
      "execution_count": null,
      "metadata": {
        "colab": {
          "base_uri": "https://localhost:8080/"
        },
        "id": "sUEwXWbmXFjx",
        "outputId": "195c44fe-55c9-44f8-d425-838ee1e342d3"
      },
      "outputs": [
        {
          "name": "stderr",
          "output_type": "stream",
          "text": [
            "/usr/local/lib/python3.9/dist-packages/torchvision/models/_utils.py:208: UserWarning: The parameter 'pretrained' is deprecated since 0.13 and may be removed in the future, please use 'weights' instead.\n",
            "  warnings.warn(\n",
            "/usr/local/lib/python3.9/dist-packages/torchvision/models/_utils.py:223: UserWarning: Arguments other than a weight enum or `None` for 'weights' are deprecated since 0.13 and may be removed in the future. The current behavior is equivalent to passing `weights=ResNet50_Weights.IMAGENET1K_V1`. You can also use `weights=ResNet50_Weights.DEFAULT` to get the most up-to-date weights.\n",
            "  warnings.warn(msg)\n"
          ]
        }
      ],
      "source": [
        "# instantiate the first pre-trained resnet 50 network\n",
        "network_1 = torchvision.models.resnet50(pretrained=True)\n",
        "# Make sure to freeze all the layers of the network.\n",
        "for param in network_1.parameters():\n",
        "    param.requires_grad = False\n",
        "\n",
        "# instantiate the second pre-trained resnet 50 network (optinally)\n",
        "network_2 = torchvision.models.resnet50(pretrained=True)"
      ]
    },
    {
      "cell_type": "markdown",
      "metadata": {
        "id": "m04stuWTXFjy"
      },
      "source": [
        "### Task 4: Network Implementation\n",
        "\n",
        "We want to modify the network such that we extract the logits for the 10 classes from CIFAR-10 from the last fully-connected layer of the network.\n",
        "\n",
        "Implement a function that:\n",
        "1. Replaces the current last linear layer of the pre-trained network with a new linear layer that has $O$ units ($O$ represents the number of classes in our dataset).\n",
        "2. Initialize the weights of the new linear layer using Xavier's method **(Optional)**.\n",
        "\n",
        "Note: Use `torch.nn.init.xavier_uniform_` function to initialize the weights of the new linear layer."
      ]
    },
    {
      "cell_type": "code",
      "execution_count": null,
      "metadata": {
        "id": "f8j4gFbYXFjy"
      },
      "outputs": [],
      "source": [
        "def replace_last_layer(network, O=10):\n",
        "  # replace the last linear layer with the new layer\n",
        "    in_features = network.fc.in_features\n",
        "    network.fc = torch.nn.Linear(in_features, O)\n",
        "    torch.nn.init.xavier_uniform_(network.fc.weight)\n",
        "    return network"
      ]
    },
    {
      "cell_type": "markdown",
      "metadata": {
        "id": "2PAMqrU1XFjz"
      },
      "source": [
        "### Test 2: Last layer dimensions\n",
        "\n",
        "This test ensures that the function return a network having the correct number of input and output units in the last layer."
      ]
    },
    {
      "cell_type": "code",
      "execution_count": null,
      "metadata": {
        "id": "EmYCJVnNXFjz"
      },
      "outputs": [],
      "source": [
        "O = 10\n",
        "for network in (network_1, network_2):\n",
        "    new_model = replace_last_layer(network, O=O)\n",
        "    assert new_model.fc.out_features == O\n",
        "    assert new_model.fc.in_features == 2048"
      ]
    },
    {
      "cell_type": "markdown",
      "metadata": {
        "id": "PrYatgj-XFjz"
      },
      "source": [
        "## Network Training\n",
        "Implement a function that takes all necessary parameters to run a training on a given dataset. \n",
        "Select the optimizer to be `torch.optim.SGD` and `torch.nn.CrossEntropyLoss` as the loss function. \n",
        "The test set will be used as the validation set."
      ]
    },
    {
      "cell_type": "markdown",
      "metadata": {
        "id": "HCIi_O3AXFj0"
      },
      "source": [
        "### Task 5: Training and Evaluation Loop\n",
        "\n",
        "Implement a training loop over a specific number of epochs (10) with a learning rate of $\\eta=0.001$ and momentum of $\\mu = 0.9$. \n",
        "Make sure that you train on the training data only, and `not` on the validation data.\n",
        "In each loop, compute and print the training loss, training accuracy, validation loss and validation accuracy. "
      ]
    },
    {
      "cell_type": "code",
      "execution_count": null,
      "metadata": {
        "id": "_ayjr_KNXFj0"
      },
      "outputs": [],
      "source": [
        "def train_eval(model, num_epochs=10, lr=0.001, momentum=0.9):\n",
        "    optimizer = torch.optim.SGD(model.parameters(), lr=lr, momentum=momentum)\n",
        "    criterion = torch.nn.CrossEntropyLoss()\n",
        "    train_loss, train_acc = [], []\n",
        "    test_loss, test_acc = [], []\n",
        "\n",
        "    for epoch in range(num_epochs):\n",
        "        \n",
        "        # training process\n",
        "        model.to(device)\n",
        "        model.train()\n",
        "        train_running_loss = 0.0\n",
        "        train_running_correct = 0\n",
        "        for i, (inputs, labels) in enumerate(trainloader):\n",
        "#             if i % 500 == 0:\n",
        "#                 print(i)\n",
        "            inputs = inputs.to(device)\n",
        "            labels = labels.to(device)\n",
        "            optimizer.zero_grad()\n",
        "            outputs = model(inputs)\n",
        "            loss = criterion(outputs, labels)\n",
        "            loss.backward()\n",
        "            optimizer.step()\n",
        "            train_running_loss += loss.item()\n",
        "            _, preds = torch.max(outputs.data, 1)\n",
        "            train_running_correct += (preds == labels).sum().item()\n",
        "\n",
        "        train_loss = train_running_loss/len(trainloader)\n",
        "        train_acc = 100. * train_running_correct/len(trainloader.dataset)\n",
        "\n",
        "        # testing process\n",
        "        model.eval()\n",
        "        test_running_loss = 0.0\n",
        "        test_running_correct = 0\n",
        "        for i, (inputs, labels) in enumerate(testloader):\n",
        "            inputs = inputs.to(device)\n",
        "            labels = labels.to(device)\n",
        "            outputs = model(inputs)\n",
        "            loss = criterion(outputs, labels)\n",
        "            test_running_loss += loss.item()\n",
        "            _, preds = torch.max(outputs.data, 1)\n",
        "            test_running_correct += (preds == labels).sum().item()\n",
        "\n",
        "        test_loss = test_running_loss/len(testloader)\n",
        "        test_acc = 100. * test_running_correct/len(testloader.dataset)\n",
        "\n",
        "        # print accuracies and losses for current epoch\n",
        "        print('Epoch [{}], Loss: {:.4f}, Train Acc: {:.2f}%, Test Loss: {:.4f}, Test Acc: {:.2f}%'\n",
        "              .format(epoch+1, train_loss, train_acc, test_loss, test_acc))"
      ]
    },
    {
      "cell_type": "markdown",
      "metadata": {
        "id": "0D_3iodVXFj1"
      },
      "source": [
        "### Task 6: Network Fine-Tuning with Frozen Layers\n",
        "\n",
        "Create a network that has feature layers frozen with $10$ output units. \n",
        "Fine-tune the created network on our CIFAR-10 data using the previous function."
      ]
    },
    {
      "cell_type": "code",
      "execution_count": null,
      "metadata": {
        "colab": {
          "base_uri": "https://localhost:8080/"
        },
        "id": "dltwyhePXFj1",
        "outputId": "5397deb2-4842-4922-a132-5119a4a98bb1"
      },
      "outputs": [
        {
          "name": "stdout",
          "output_type": "stream",
          "text": [
            "Epoch [1], Loss: 0.9751, Train Acc: 68.02%, Test Loss: 0.7310, Test Acc: 75.34%\n",
            "Epoch [2], Loss: 0.7332, Train Acc: 75.24%, Test Loss: 0.6793, Test Acc: 76.82%\n",
            "Epoch [3], Loss: 0.6979, Train Acc: 76.21%, Test Loss: 0.6558, Test Acc: 77.81%\n",
            "Epoch [4], Loss: 0.6705, Train Acc: 77.08%, Test Loss: 0.6430, Test Acc: 78.04%\n",
            "Epoch [5], Loss: 0.6594, Train Acc: 77.40%, Test Loss: 0.6473, Test Acc: 77.78%\n",
            "Epoch [6], Loss: 0.6483, Train Acc: 77.90%, Test Loss: 0.6398, Test Acc: 78.38%\n",
            "Epoch [7], Loss: 0.6391, Train Acc: 78.09%, Test Loss: 0.6239, Test Acc: 78.75%\n",
            "Epoch [8], Loss: 0.6331, Train Acc: 78.27%, Test Loss: 0.6172, Test Acc: 79.14%\n",
            "Epoch [9], Loss: 0.6228, Train Acc: 78.66%, Test Loss: 0.6085, Test Acc: 79.20%\n",
            "Epoch [10], Loss: 0.6153, Train Acc: 78.85%, Test Loss: 0.6023, Test Acc: 79.30%\n"
          ]
        }
      ],
      "source": [
        "network_with_frozen_layers = network_1\n",
        "train_eval(network_with_frozen_layers,num_epochs=10, lr=0.001, momentum=0.9)"
      ]
    },
    {
      "cell_type": "markdown",
      "metadata": {
        "id": "SfEcNwc8XFj1"
      },
      "source": [
        "### Task 7 (Optional): Network Fine-Tuning without Frozen Layers \n",
        "\n",
        "Create a network from the second pre-trained network with $10$ output units. \n",
        "Fine-tune the created network on our CIFAR-10.\n",
        "\n",
        "Note:\n",
        "\n",
        "  * The fine-tuning of the network can take a long time when the layers are not frozen."
      ]
    },
    {
      "cell_type": "code",
      "execution_count": null,
      "metadata": {
        "colab": {
          "base_uri": "https://localhost:8080/"
        },
        "id": "6UavS1FJXFj2",
        "outputId": "cd7c568a-518c-463b-d30e-2d9e1cd40e7a"
      },
      "outputs": [
        {
          "name": "stdout",
          "output_type": "stream",
          "text": [
            "Epoch [1], Loss: 0.3398, Train Acc: 88.55%, Test Loss: 0.1632, Test Acc: 94.69%\n"
          ]
        }
      ],
      "source": [
        "network_normal = network_2\n",
        "train_eval(network_normal,num_epochs=10, lr=0.001, momentum=0.9)"
      ]
    },
    {
      "cell_type": "markdown",
      "metadata": {
        "id": "sL7tgFytXFj2"
      },
      "source": [
        "## Plotting\n",
        "\n",
        "Finally, we want to plot the confusion matrix of the test set.\n",
        "For this, we need to compute the predictions for all of our test samples, and the list of target values.\n",
        "Finally, we can make use of the `sklearn.metrics.confusion_matrix` to compute the confusion matrix.\n",
        "You can utilize `sklearn.metrics.ConfusionMatrixDisplay` for displaying the confusion matrix, or `pyplot.imshow` and adding the according labels.\n",
        "\n",
        "Note:\n",
        "\n",
        "  * The documentation for the confusion matrix can be found here: https://scikit-learn.org/stable/modules/generated/sklearn.metrics.confusion_matrix.html\n",
        "  * The interface and an example for the `ConfusionMatrixDisplay` can be found here: https://scikit-learn.org/stable/modules/generated/sklearn.metrics.ConfusionMatrixDisplay.html"
      ]
    },
    {
      "cell_type": "markdown",
      "metadata": {
        "id": "Cg1cNjioXFj2"
      },
      "source": [
        "### Task 8: Confusion Matrix Plotting\n",
        "\n",
        "Plot the confusion matrix for the fine-tuned network with frozen layers.\n",
        "Optionally, also plot the confusion matrix for the second fine-tuned network."
      ]
    },
    {
      "cell_type": "code",
      "execution_count": null,
      "metadata": {
        "id": "MkLttxwWXFj2"
      },
      "outputs": [],
      "source": [
        "from sklearn.metrics import confusion_matrix, ConfusionMatrixDisplay\n",
        "import matplotlib.pyplot as plt\n",
        "# compute predictions and collect targets\n",
        "network_with_frozen_layers.to(device)\n",
        "network_with_frozen_layers.eval()\n",
        "predictions1, targets1 = [], []\n",
        "for batch in testloader:\n",
        "    inp=batch[0]\n",
        "    inp = inp.to(device)\n",
        "    outputs = network_with_frozen_layers(inp)\n",
        "    preds = torch.argmax(outputs, dim=1).cpu()\n",
        "    predictions1.extend(preds)\n",
        "    targets1.extend(batch[1])\n",
        "\n",
        "network_normal.to(device)\n",
        "network_normal.eval()\n",
        "predictions2, targets2 = [], []\n",
        "for batch in testloader:\n",
        "    inp=batch[0]\n",
        "    inp = inp.to(device)\n",
        "    outputs = network_normal(inp)\n",
        "    preds = torch.argmax(outputs, dim=1).cpu()\n",
        "    predictions2.extend(preds)\n",
        "    targets2.extend(batch[1])\n",
        "\n",
        "\n",
        "\n",
        "# compute confusion matrix\n",
        "targets1 = torch.stack(targets1).cpu() \n",
        "predictions1 = torch.stack(predictions1).cpu() \n",
        "matrix1 = confusion_matrix(targets1, predictions1)\n",
        "\n",
        "targets2 = torch.stack(targets2).cpu() \n",
        "predictions2 = torch.stack(predictions2).cpu() \n",
        "matrix2 = confusion_matrix(targets2, predictions2)\n",
        "\n",
        "# plot confusion matrix\n",
        "\n",
        "disp = ConfusionMatrixDisplay(confusion_matrix=matrix1, display_labels=range(10))\n",
        "disp.plot()\n",
        "\n",
        "\n",
        "# add axis labels if required\n",
        "plt.title('Confusion Matrix - network_with_frozen_layers')\n",
        "plt.xlabel('Predicted Class')\n",
        "plt.ylabel('Target Class')\n",
        "plt.show()\n",
        "\n",
        "\n",
        "disp = ConfusionMatrixDisplay(confusion_matrix=matrix2, display_labels=range(10))\n",
        "disp.plot()\n",
        "plt.title('Confusion Matrix - network_normal')\n",
        "plt.xlabel('Predicted Class')\n",
        "plt.ylabel('Target Class')\n",
        "plt.show()\n",
        "\n"
      ]
    },
    {
      "cell_type": "code",
      "execution_count": null,
      "metadata": {
        "id": "whcar2PcXFj3"
      },
      "outputs": [],
      "source": []
    }
  ],
  "metadata": {
    "accelerator": "GPU",
    "colab": {
      "provenance": [],
      "include_colab_link": true
    },
    "gpuClass": "standard",
    "interpreter": {
      "hash": "2dd53f8ad749bca69f7250ce75eb4f0def59db5cf79075a9716322ffc58e8a2e"
    },
    "kernelspec": {
      "display_name": "Python 3 (ipykernel)",
      "language": "python",
      "name": "python3"
    },
    "language_info": {
      "codemirror_mode": {
        "name": "ipython",
        "version": 3
      },
      "file_extension": ".py",
      "mimetype": "text/x-python",
      "name": "python",
      "nbconvert_exporter": "python",
      "pygments_lexer": "ipython3",
      "version": "3.9.13"
    }
  },
  "nbformat": 4,
  "nbformat_minor": 0
}
