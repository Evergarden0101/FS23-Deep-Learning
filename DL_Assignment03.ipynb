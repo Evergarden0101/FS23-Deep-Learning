{
  "cells": [
    {
      "cell_type": "markdown",
      "metadata": {
        "id": "view-in-github",
        "colab_type": "text"
      },
      "source": [
        "<a href=\"https://colab.research.google.com/github/Evergarden0101/FS23-Deep-Learning/blob/main/DL_Assignment03.ipynb\" target=\"_parent\"><img src=\"https://colab.research.google.com/assets/colab-badge.svg\" alt=\"Open In Colab\"/></a>"
      ]
    },
    {
      "cell_type": "markdown",
      "metadata": {
        "id": "XYyOevvgNRMP"
      },
      "source": [
        "# Assignment 3: Universal Function Approximator\n",
        "\n",
        "\n",
        "The goal of this exercise is to train a two-layer fully-connected network to perform one-dimensional non-linear regression via gradient descent. To show the flexibility of the approach, three different functions will be approximated. First, the network and its gradient need to be implemented. Second, target data for three different functions will be generated. Finally, the training procedure will be applied to the data, and the resulting approximated function will be plotted together with the data samples.\n",
        "\n",
        "## Network Implementation\n",
        "\n",
        "A two-layer network is defined by parameters $\\Theta=(\\mathbf W^{(1)},\\vec w^{(2)})$ that are split into $\\mathbf W^{(1)}\\in\\mathbb R^{K\\times {(D+1)}}$ for the first layer and $\\vec w^{(2)}\\in\\mathbb R^{K+1}$ for the second layer. In our case, since we have only a single input, we have $D=1$.\n",
        "For a given input $\\vec x = (1, x)^T$, the network is implemented in three steps:\n",
        "\n",
        "1. Compute the first layer output, aka, the activation: $\\vec a_- = \\mathbf W^{(1)} \\vec x$\n",
        "2. Apply the activation function for each element of $\\vec a_- : \\vec h_- = g(\\vec a_-)$ and prepend the bias neuron $h_0=1$ to arrive at $\\vec h$.\n",
        "3. Compute the output of the network: $y = \\vec w^{(2)}\\ ^T\\vec h$.\n",
        "\n",
        "### Task 1  \n",
        "Implement a function that returns the network output for a given input $\\vec x$ and parameters $\\Theta=(\\mathbf W^{(1)}, \\vec w^{(2)})$. Remember that the input of the function $\\vec x = (1, x)^T$. Also remember to prepend $h_0=1$ in your implementation.\n",
        "\n",
        "We use hyperbolic tangent $(\\tanh)$ as the activation function:\n",
        "\n",
        "\\begin{equation*}\n",
        "    \\tanh(a) = \\frac{e^{a}-e^{-a}}{e^{a}+e^{-a}}\n",
        "\\end{equation*}\n",
        "\n",
        "Note:\n",
        "\n",
        "1. Use the `numpy` implemention of the hyperbolic tangent function.\n",
        "2. Use `numpy.concatenate` or `numpy.insert` to prepend $h_0$.\n",
        "3. Make use of `numpy.dot` to compute matrix-vector and vector-vector products."
      ]
    },
    {
      "cell_type": "code",
      "execution_count": null,
      "metadata": {
        "id": "w4sCXWf4NRMS"
      },
      "outputs": [],
      "source": [
        "import numpy\n",
        "import math\n",
        "\n",
        "def network(x, Theta):\n",
        "    W1, w2 = Theta\n",
        "    a_ = numpy.dot(W1,x)\n",
        "    h_=numpy.tanh(a_)\n",
        "    h=h_\n",
        "    if w2.shape[0]!=h.shape[0]:\n",
        "      h = numpy.concatenate((numpy.array([1]),h_))\n",
        "    y = numpy.dot(w2.Th)\n",
        "    return  y,h"
      ]
    },
    {
      "cell_type": "markdown",
      "metadata": {
        "id": "cwkDlBk7NRMT"
      },
      "source": [
        "Test 1: Sanity Check\n",
        "----------------------------\n",
        "\n",
        "We select a specific number of hidden neurons and create the weights accordingly, using all zeros in the first layer and all ones in the second. The test case below assures that the function from Task 1 actually returns $1$ for those weights.\n",
        "\n",
        "Note: your function should pass the test below."
      ]
    },
    {
      "cell_type": "code",
      "execution_count": null,
      "metadata": {
        "colab": {
          "base_uri": "https://localhost:8080/"
        },
        "id": "uSMGLX0GNRMU",
        "outputId": "bf12ba60-4fa7-466d-97bb-797ace2526ee"
      },
      "outputs": [
        {
          "output_type": "stream",
          "name": "stdout",
          "text": [
            "Test passed\n"
          ]
        }
      ],
      "source": [
        "K = 20\n",
        "D = 1\n",
        "W1 = numpy.zeros((K, D+1))\n",
        "w2 = numpy.ones(K+1)\n",
        "x = numpy.random.rand(D+1)\n",
        "\n",
        "y, _ = network(x, (W1, w2))\n",
        "assert abs(1 - y) < 1e-6\n",
        "print(\"Test passed\")"
      ]
    },
    {
      "cell_type": "markdown",
      "metadata": {
        "id": "fdiwJo97NRMU"
      },
      "source": [
        "## Gradient Implementation\n",
        "\n",
        "In order to perform gradient descent, we need to define a loss function. As provided in the lecture, the $\\mathcal J^{L_2}$ loss function is defined over a dataset $X=\\{(\\vec x^{[n]}, t^{[n]})\\}$, that is defined as a list of tuples, as follows:\n",
        "\n",
        "$$\n",
        "   \\mathcal J^{L_2} = \\frac{1}{N}\\sum_{i=1}^N (y^{[n]}-t^{[n]})^2\n",
        "$$\n",
        "\n",
        "where $y^{[n]}$ is the output of the network from Task 1 when inputting $\\vec x^{[n]}$. Interestingly, however, we never explicitly need to compute the output of the loss function. It is only used to analytically compute the gradient as shown in the lecture.\n",
        "\n",
        "The gradient is composed of two items, one for each layer. Particularly, for a given dataset $X$, the gradient of loss $J^{L_2}$ is defined as:\n",
        "\n",
        "\\begin{align}\n",
        "  \\frac{\\partial \\mathcal J}{\\partial w_{kd}^{(1)}} &= \\frac{2}{N} \\sum\\limits_{n=1}^N (y^{[n]}-t^{[n]}) w_{k}^{(2)} (1-h_{k}^{[n]}\\cdot h_{k}^{[n]}) x_{d}^{[n]}\\\\\n",
        "  \\frac{\\partial \\mathcal J}{\\partial w_{k}^{(2)}} &= \\frac{2}{N} \\sum\\limits_{n=1}^N (y^{[n]}-t^{[n]}) w_{k}^{(2)} h_{k}^{[n]}\n",
        "\\end{align}\n",
        "\n",
        "### Task 2\n",
        "Implement a function that returns the gradient as defined in $(1)$ and $(2)$ for a given dataset $X$, and given weights $\\Theta=(\\mathbf W^{(1)},\\vec w^{(2)})$. Make sure that both parts of the gradient are computed. \n",
        "\n",
        "Hint:\n",
        "\n",
        "1. Make use of the the function implemented in Task 1 where appropriate\n",
        "\n",
        "Note:\n",
        "\n",
        "  1. This is a slow implementation. We will see how to speed this up in the next lecture.\n",
        "  2. You can make use of `numpy.zeros` to initialize the gradient.\n",
        "  3. The outper product can be computed via `numpy.outer`.\n",
        "  4. Remember that we used the $\\tanh$ activation function in our network."
      ]
    },
    {
      "cell_type": "code",
      "execution_count": null,
      "metadata": {
        "id": "iSTDEiHENRMV"
      },
      "outputs": [],
      "source": [
        "def gradient(X, Theta):\n",
        "  # split parameters for easier handling\n",
        "    W1, w2 = Theta\n",
        "  \n",
        "  # define gradient with respect to both parameters\n",
        "    dW1=0\n",
        "    dw2=0\n",
        "    N = len(X)\n",
        "  # iterate over dataset\n",
        "    for x, t in X:\n",
        "    # compute the gradient \n",
        "        y,h=network(x, Theta)\n",
        "        dw11=2/N*numpy.outer([(y-t)*w2*(1-h*h)],x)\n",
        "        dw22=2/N*(y-t)*w2*h\n",
        "        dW1=dW1+dw11\n",
        "        dw2=dw2+dw22\n",
        "\n",
        "  # anything else?\n",
        "\n",
        "  \n",
        "    return dW1, dw2"
      ]
    },
    {
      "cell_type": "markdown",
      "metadata": {
        "id": "dLqOkUutNRMV"
      },
      "source": [
        "## Gradient Descent\n",
        "\n",
        "The procedure of gradient descent is the repeated application of two steps.\n",
        " \n",
        "1. The gradient of loss $\\nabla_{\\Theta}\\mathcal J^{L_2}$ is computed based on the current value of the parameters $\\Theta=(\\mathbf W^{(1)},\\vec w^{(2)})$.\n",
        "2. The weights are updated by moving a small step $\\eta$ into the direction of the negative gradient:\n",
        "\n",
        "$$\n",
        "    \\Theta = \\Theta - \\eta \\nabla_{\\Theta}\\mathcal J\n",
        "$$\n",
        "\n",
        "As stopping criterion, we select the number of training epochs to be 10000.\n",
        "\n",
        "### Task 3\n",
        "Implement a function that performs gradient descent for a given dataset $X$, given initial parameters $\\Theta$ and a given learning rate $\\eta$ and returns the optimized parameters $\\Theta^*$."
      ]
    },
    {
      "cell_type": "code",
      "execution_count": null,
      "metadata": {
        "id": "5yqO9jSjNRMV"
      },
      "outputs": [],
      "source": [
        "def gradient_descent(X, Theta, eta):\n",
        "    epochs = 10000\n",
        "    W1 = Theta[0]\n",
        "    w2 = Theta[1]\n",
        "  # perform iterative gradient descent\n",
        "    for epoch in range(epochs):\n",
        "    # compute the gradient\n",
        "        dW1, dw2=gradient(X, (W1,w2))\n",
        "    # update the parameters\n",
        "        W1=W1-eta*dW1\n",
        "        w2=w2-eta*dw2\n",
        "  # return optimized parameters\n",
        "    return W1,w2"
      ]
    },
    {
      "cell_type": "markdown",
      "metadata": {
        "id": "gVan57uYNRMW"
      },
      "source": [
        "## Generate Datasets\n",
        "\n",
        "In total, we will test our gradient descent function with three different datasets. Particularly, we approximate:\n",
        "\n",
        "1. $X_1: t = \\sin(2x)$ for $x\\in[-2,2]$\n",
        "2. $X_2: t = e^{-2x^2}$ for $x\\in[-2,2]$\n",
        "3. $X_3: t = -x^5 - 3x^4 + 11x^3 + 27x^2 - 10x - 64$ for $x\\in[-4.5,3.5]$\n",
        "\n",
        "### Task 4\n",
        "\n",
        "Generate dataset $X_1$, for $N=50$ samples randomly drawn from range $x\\in[-2,2]$. \n",
        "Generate data $X_2$ for $N=30$ samples randomly drawn from range $x\\in[-2,2]$. \n",
        "Generate dataset $X_3$ for $N=200$ samples randomly drawn from range $x\\in[-4.5,3.5]$. \n",
        "Implement all three datasets as lists of tuples: $\\{(\\vec x^{[n]}, t^{[n]})\\mid 1\\leq n\\leq N\\}$.\n",
        "\n",
        "Note:\n",
        "\n",
        "  1. You can use `numpy.random.uniform` to create uniformly distributed samples for $x$.\n",
        "  2. Make sure that $\\vec x = (1, x)^T$ for each sample.\n",
        "  3. You can make use of `numpy.sin`, `numpy.exp` and `numpy.pow` to compute target values."
      ]
    },
    {
      "cell_type": "code",
      "execution_count": null,
      "metadata": {
        "id": "LheWqY-CNRMW"
      },
      "outputs": [],
      "source": [
        "x1_uni=numpy.random.uniform(-2,2,50)\n",
        "X1=[]\n",
        "for i in range(len(x1_uni)):\n",
        "    x1=numpy.append(numpy.array([1]),x1_uni[i])\n",
        "    X1.append((x1,numpy.sin(2*x1_uni[i])))\n",
        "\n",
        "x2_uni=numpy.random.uniform(-2,2,30)\n",
        "X2=[]\n",
        "for i in range(len(x2_uni)):\n",
        "    x2=numpy.append(numpy.array([1]),x2_uni[i])\n",
        "    X2.append((x2,numpy.exp(-2*numpy.power(x2_uni[i],2))))\n",
        "\n",
        "x3_uni=numpy.random.uniform(-4.5,3.5,200)\n",
        "X3=[]\n",
        "\n",
        "for i in range(len(x3_uni)):\n",
        "    x3=numpy.append(numpy.array([1]),x3_uni[i])\n",
        "    X3.append((x3,-numpy.power(x3_uni[i],5)-3*numpy.power(x3_uni[i],4)+11*numpy.power(x3_uni[i],3)+27*numpy.power(x3_uni[i],2)-10*x3_uni[i]-64))\n"
      ]
    },
    {
      "cell_type": "markdown",
      "metadata": {
        "id": "BHZhm-D7NRMW"
      },
      "source": [
        "### Test 2: Sanity Check\n",
        "\n",
        "The test case below assures that the elements of each generated dataset are tuples with two elements, that the first element ($\\vec x$) is a vector with two numbers, and that the second element ($t$) is a float."
      ]
    },
    {
      "cell_type": "code",
      "execution_count": null,
      "metadata": {
        "colab": {
          "base_uri": "https://localhost:8080/"
        },
        "id": "F1Qeu0fKNRMW",
        "outputId": "aef2a986-b495-441e-a220-5dc43ac31d56"
      },
      "outputs": [
        {
          "output_type": "stream",
          "name": "stdout",
          "text": [
            "Test passed!\n"
          ]
        }
      ],
      "source": [
        "assert all(\n",
        "    isinstance(x, (tuple,list)) and \n",
        "    len(x) == 2 and \n",
        "    isinstance(x[0], (tuple,list,numpy.ndarray)) and \n",
        "    len(x[0] == 2) and \n",
        "    isinstance(x[1], float)\n",
        "    for X in (X1, X2, X3)\n",
        "    for x in X\n",
        ")\n",
        "\n",
        "print('Test passed!')"
      ]
    },
    {
      "cell_type": "markdown",
      "metadata": {
        "id": "iDMcXGnlNRMX"
      },
      "source": [
        "###### Function Approximation\n",
        "\n",
        "Finally, we want to make use of our gradient descent implementation to approximate our functions. In order to see our success, we want to plot the functions together with the data.\n",
        "\n",
        "### Task 5 (theoretical question)\n",
        "\n",
        "When looking at the example plots in the exercise slides (exemplary solutions for the plotting Task 8), how many hidden neurons $K$ do we need in order to approximate the functions? Is there any difference\n",
        "1 between the three target functions?\n",
        "\n",
        "Answer:The number of hidden neurons required to approximate a function using a neural network depends on the complexity of the function and the desired level of accuracy.\n",
        "For the first function, 2-5 hidden neuron may be sufficient, as the function is relatively simple and has a smooth shape.\n",
        "\n",
        "For the second function , 5-10 hidden neurons may be required, as the function has a more complex shape with sharper peaks and valleys.\n",
        "\n",
        "For the third function , 30-40 hidden neurons may be required, as the function is highly nonlinear and has multiple local extrema."
      ]
    },
    {
      "cell_type": "code",
      "execution_count": null,
      "metadata": {
        "id": "0o5mrusZNRMX"
      },
      "outputs": [],
      "source": [
        "K1 = 4\n",
        "K2 = 8\n",
        "K3 = 35"
      ]
    },
    {
      "cell_type": "markdown",
      "metadata": {
        "id": "2R_A8SFkNRMX"
      },
      "source": [
        "### Task 6\n",
        "\n",
        "For each of the datasets, randomly initialize the parameters $\\Theta_1,\\Theta_2,\\Theta_3\\in[-1,1]$ according to the number of hidden neurons estimated in Task 5.\n",
        "\n",
        "Note:\n",
        "\n",
        "  1. You can use `numpy.random.uniform` to initialize the weights.\n",
        "  2. Make sure that the weight matrices are instantiated in the correct dimensions."
      ]
    },
    {
      "cell_type": "code",
      "execution_count": null,
      "metadata": {
        "id": "xjSipl1qNRMX"
      },
      "outputs": [],
      "source": [
        "D=1\n",
        "Theta1 = (numpy.random.uniform(-1,1,(K1+1, D+1)),numpy.random.uniform(-1,1,K1+1))\n",
        "Theta2 = (numpy.random.uniform(-1,1,(K2+1, D+1)),numpy.random.uniform(-1,1,K2+1))\n",
        "Theta3 = (numpy.random.uniform(-1,1,(K3+1, D+1)),numpy.random.uniform(-1,1,K3+1))"
      ]
    },
    {
      "cell_type": "markdown",
      "metadata": {
        "id": "5jyySftvNRMX"
      },
      "source": [
        "### Task 7\n",
        "\n",
        "Call gradient descent function from Task 3 using the datasets $X_1, X_2, X_3$, the according created parameters $\\Theta_1,\\Theta_2,\\Theta_3$ and a learning rate of $\\eta=0.1$. Store the resulting optimized weights $\\Theta_1^*, \\Theta_2^*, \\Theta_3^*$ and the loss values.\n",
        "\n",
        "Optimize the learning rate $\\eta$ for each of the three functions. Do you see any differences? What are the best learning rates that you can find?\n",
        "\n",
        "WARNING: Depending on the implementation, this might run for several minutes!"
      ]
    },
    {
      "cell_type": "code",
      "execution_count": null,
      "metadata": {
        "scrolled": true,
        "id": "J5i2pfe-NRMX",
        "outputId": "beb32eee-1154-48e1-dd69-c433822a0462",
        "colab": {
          "base_uri": "https://localhost:8080/"
        }
      },
      "outputs": [
        {
          "output_type": "stream",
          "name": "stdout",
          "text": [
            "First Function:\n"
          ]
        },
        {
          "output_type": "stream",
          "name": "stderr",
          "text": [
            "<ipython-input-3-7269b56cd9ad>:13: RuntimeWarning: overflow encountered in multiply\n",
            "  dw11=2/N*numpy.outer([(y-t)*w2*(1-h*h)],x)\n",
            "<ipython-input-3-7269b56cd9ad>:13: RuntimeWarning: invalid value encountered in multiply\n",
            "  dw11=2/N*numpy.outer([(y-t)*w2*(1-h*h)],x)\n",
            "<ipython-input-3-7269b56cd9ad>:14: RuntimeWarning: overflow encountered in multiply\n",
            "  dw22=2/N*(y-t)*w2*h\n",
            "<ipython-input-3-7269b56cd9ad>:16: RuntimeWarning: invalid value encountered in add\n",
            "  dw2=dw2+dw22\n"
          ]
        },
        {
          "output_type": "stream",
          "name": "stdout",
          "text": [
            "for eta=0.1 loss=nan\n",
            "for eta=0.01 loss=0.2806085573041569\n",
            "for eta=0.001 loss=0.39953627503705064\n",
            "for eta=0.0001 loss=0.5348252063157315\n",
            "for eta=1e-05 loss=0.8606437927718001\n",
            "Second Function:\n",
            "for eta=0.1 loss=9.453389000944833e-05\n",
            "for eta=0.01 loss=0.00597222823069191\n",
            "for eta=0.001 loss=0.025667917007543502\n",
            "for eta=0.0001 loss=0.17964957109928018\n",
            "for eta=1e-05 loss=0.25101904256257257\n",
            "Third Function:\n",
            "for eta=0.1 loss=nan\n",
            "for eta=0.01 loss=2155.5480630608563\n",
            "for eta=0.001 loss=62.80253297656384\n",
            "for eta=0.0001 loss=580.9297331775649\n",
            "for eta=1e-05 loss=2142.363761655508\n"
          ]
        }
      ],
      "source": [
        "print('First Function:')\n",
        "for k in range(5):\n",
        "    fun1_W1,fun1_w2=gradient_descent(X1, Theta1, eta=0.1/numpy.power(10,k))\n",
        "    loss1=0\n",
        "    for i in range(len(X1)):\n",
        "        loss1=loss1+1/len(x1_uni)*numpy.power(network(X1[i][0],(fun1_W1,fun1_w2))[0]-X1[i][1],2)\n",
        "    print('for eta='+str(0.1/numpy.power(10,k))+' loss='+str(loss1))\n",
        "print('Second Function:')\n",
        "for k in range(5):\n",
        "    fun2_W1,fun2_w2=gradient_descent(X2, Theta2, eta=0.1/numpy.power(10,k))\n",
        "    loss2=0\n",
        "    for i in range(len(X2)):\n",
        "        loss2=loss2+1/len(x2_uni)*numpy.power(network(X2[i][0],(fun2_W1,fun2_w2))[0]-X2[i][1],2)\n",
        "    print('for eta='+str(0.1/numpy.power(10,k))+' loss='+str(loss2))\n",
        "print('Third Function:')\n",
        "for k in range(5):\n",
        "    fun3_W1,fun3_w2=gradient_descent(X3, Theta3, eta=0.1/numpy.power(10,k))\n",
        "    loss3=0\n",
        "    for i in range(len(X3)):\n",
        "        loss3=loss3+1/len(x3_uni)*numpy.power(network(X3[i][0],(fun3_W1,fun3_w2))[0]-X3[i][1],2)\n",
        "    print('for eta='+str(0.1/numpy.power(10,k))+' loss='+str(loss3))"
      ]
    },
    {
      "cell_type": "markdown",
      "source": [
        "In this implementation, when we decrese the $\\eta$ by 10 times, the loss values become larger. The best learning rate is achieved when the loss value is the smallest and the best learning rate for each of the three functions is different. The best $\\eta$ for the first function is 0.1, the best $\\eta$ for the second function is also 0.1, but the best $\\eta$ for the third function is 0.001."
      ],
      "metadata": {
        "id": "QbrQw_igsvnk"
      }
    },
    {
      "cell_type": "markdown",
      "metadata": {
        "id": "o0fwmtcBNRMY"
      },
      "source": [
        "## Data and Function Plotting\n",
        "\n",
        "### Task 8\n",
        "\n",
        "Implement a plotting function that takes a given dataset $X$, given parameters $\\Theta$ and a defined range $R$. Each data sample $(x^{[n]},t^{[n]})$ of the dataset is plotted as an $''x''$. In order to plot the function that is approximated by the network, generate sufficient equally-spaced input values $x\\in R$, compute the network output $y$ for these inputs, and plot them with a line.\n",
        "\n",
        "Note:\n",
        "\n",
        "  1. The dataset $X$ is defined as above, a list of tuples $(\\vec x, t)$.\n",
        "  2. Each input in the dataset is defined as $\\vec x = (1,x)^T$.\n",
        "  3. Equidistant points can be obtained via `numpy.arange`."
      ]
    },
    {
      "cell_type": "code",
      "execution_count": null,
      "metadata": {
        "id": "1Tgop4JtNRMY"
      },
      "outputs": [],
      "source": [
        "from matplotlib import pyplot\n",
        "def plot(X, Theta, R):\n",
        "  # first, plot data samples\n",
        "    x1=[]\n",
        "    y1=[]\n",
        "    for a in X:\n",
        "        x1.append(a[0][1])\n",
        "        y1.append(a[1])\n",
        "    pyplot.plot(x1, y1, \"rx\", label=\"Data\")\n",
        "\n",
        "  # define equidistant points from R[0] to R[1] to evaluate the network\n",
        "    n=100\n",
        "    x= numpy.arange(R[0],R[1],(R[1]-R[0])/n)\n",
        "    y=numpy.zeros(n)\n",
        "  # compute the network outputs for these values\n",
        "    for i in range(n):\n",
        "        x_temp=numpy.append(numpy.array([1]),x[i])\n",
        "        y[i]=network(x_temp, Theta)[0]\n",
        "  # plot network approximation\n",
        "    pyplot.plot(x,y,\"k-\", label=\"network\")\n",
        "    pyplot.legend()"
      ]
    },
    {
      "cell_type": "markdown",
      "metadata": {
        "id": "yIIlR1TnNRMY"
      },
      "source": [
        "### Task 9\n",
        "\n",
        "For each of the datasets and their according optimized parameters, call the plotting function from Task 8. Use range $R=[-3,3]$ for dataset $X_1$ and $X_2$, and range $R=[-5.5,4.5]$ for dataset $X_3$. Note that the first element of range $R$ should be the lowest $x$-location, and the second element of $R$ the highest value for $x$. Did the networks approximate the functions? What can we do if not?"
      ]
    },
    {
      "cell_type": "code",
      "execution_count": null,
      "metadata": {
        "id": "Df4qFFVVNRMY",
        "outputId": "e5d9ce1e-bc36-488b-8e01-3d5e6a798878",
        "colab": {
          "base_uri": "https://localhost:8080/",
          "height": 350
        }
      },
      "outputs": [
        {
          "output_type": "stream",
          "name": "stderr",
          "text": [
            "<ipython-input-3-7269b56cd9ad>:13: RuntimeWarning: overflow encountered in multiply\n",
            "  dw11=2/N*numpy.outer([(y-t)*w2*(1-h*h)],x)\n",
            "<ipython-input-3-7269b56cd9ad>:13: RuntimeWarning: invalid value encountered in multiply\n",
            "  dw11=2/N*numpy.outer([(y-t)*w2*(1-h*h)],x)\n",
            "<ipython-input-3-7269b56cd9ad>:14: RuntimeWarning: overflow encountered in multiply\n",
            "  dw22=2/N*(y-t)*w2*h\n",
            "<ipython-input-3-7269b56cd9ad>:16: RuntimeWarning: invalid value encountered in add\n",
            "  dw2=dw2+dw22\n"
          ]
        },
        {
          "output_type": "display_data",
          "data": {
            "text/plain": [
              "<Figure size 720x216 with 3 Axes>"
            ],
            "image/png": "[encoded data removed]"
          },
          "metadata": {
            "needs_background": "light"
          }
        }
      ],
      "source": [
        "figure = pyplot.figure(figsize=(10,3))\n",
        "Theta_network1=gradient_descent(X1, Theta1, eta=0.1)\n",
        "Theta_network2=gradient_descent(X2, Theta2, eta=0.1)\n",
        "Theta_network3=gradient_descent(X3, Theta3, eta=0.001)\n",
        "# plot first function\n",
        "pyplot.subplot(131)\n",
        "plot(X1, Theta_network1, (-3,3))\n",
        "\n",
        "# plot second function\n",
        "pyplot.subplot(132)\n",
        "plot(X2, Theta_network2, (-3,3))\n",
        "\n",
        "# plot third function\n",
        "pyplot.subplot(133)\n",
        "plot(X3, Theta_network3, (-5.5,4.5))"
      ]
    },
    {
      "cell_type": "markdown",
      "source": [
        "Yes, from the plot we can see the network can suit the shape of the data posiotions well. If not, it might be overfitting or underfitting. We can improve the network by regularizing the data, changing the data amout, modifying the Epoch or leaning rate."
      ],
      "metadata": {
        "id": "BnyOd_52shgM"
      }
    }
  ],
  "metadata": {
    "interpreter": {
      "hash": "2dd53f8ad749bca69f7250ce75eb4f0def59db5cf79075a9716322ffc58e8a2e"
    },
    "kernelspec": {
      "display_name": "Python 3 (ipykernel)",
      "language": "python",
      "name": "python3"
    },
    "language_info": {
      "codemirror_mode": {
        "name": "ipython",
        "version": 3
      },
      "file_extension": ".py",
      "mimetype": "text/x-python",
      "name": "python",
      "nbconvert_exporter": "python",
      "pygments_lexer": "ipython3",
      "version": "3.9.13"
    },
    "colab": {
      "provenance": [],
      "include_colab_link": true
    }
  },
  "nbformat": 4,
  "nbformat_minor": 0
}